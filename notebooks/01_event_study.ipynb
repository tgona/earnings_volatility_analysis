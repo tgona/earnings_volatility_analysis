{
  "cells": [
    {
      "cell_type": "code",
      "source": [
        "!git clone https://github.com/tgona/earnings_volatility_analysis.git\n",
        "%cd earnings_volatility_analysis"
      ],
      "metadata": {
        "id": "nSRKClKr56_w",
        "outputId": "d79822ff-c115-4294-c3ab-1aca9f6e288c",
        "colab": {
          "base_uri": "https://localhost:8080/"
        }
      },
      "execution_count": 8,
      "outputs": [
        {
          "output_type": "stream",
          "name": "stdout",
          "text": [
            "Cloning into 'earnings_volatility_analysis'...\n",
            "remote: Enumerating objects: 36, done.\u001b[K\n",
            "remote: Counting objects: 100% (36/36), done.\u001b[K\n",
            "remote: Compressing objects: 100% (27/27), done.\u001b[K\n",
            "remote: Total 36 (delta 12), reused 31 (delta 7), pack-reused 0 (from 0)\u001b[K\n",
            "Receiving objects: 100% (36/36), 6.57 KiB | 6.57 MiB/s, done.\n",
            "Resolving deltas: 100% (12/12), done.\n",
            "/content/earnings_volatility_analysis/earnings_volatility_analysis/earnings_volatility_analysis\n"
          ]
        }
      ]
    },
    {
      "cell_type": "code",
      "execution_count": 11,
      "metadata": {
        "id": "qCsIdSejOgPU",
        "outputId": "b49a1fad-1b86-441a-fbea-6ef0a5ca4304",
        "colab": {
          "base_uri": "https://localhost:8080/",
          "height": 411
        }
      },
      "outputs": [
        {
          "output_type": "error",
          "ename": "ImportError",
          "evalue": "cannot import name 'abnormal_iv_series' from 'src.event_study' (/content/earnings_volatility_analysis/src/event_study.py)",
          "traceback": [
            "\u001b[0;31m---------------------------------------------------------------------------\u001b[0m",
            "\u001b[0;31mImportError\u001b[0m                               Traceback (most recent call last)",
            "\u001b[0;32m<ipython-input-11-69dd4d2c1b50>\u001b[0m in \u001b[0;36m<cell line: 0>\u001b[0;34m()\u001b[0m\n\u001b[1;32m      2\u001b[0m \u001b[0;32mimport\u001b[0m \u001b[0mpandas\u001b[0m \u001b[0;32mas\u001b[0m \u001b[0mpd\u001b[0m\u001b[0;34m\u001b[0m\u001b[0;34m\u001b[0m\u001b[0m\n\u001b[1;32m      3\u001b[0m \u001b[0;32mfrom\u001b[0m \u001b[0msrc\u001b[0m\u001b[0;34m.\u001b[0m\u001b[0mio\u001b[0m \u001b[0;32mimport\u001b[0m \u001b[0mfetch_earnings_calendar\u001b[0m\u001b[0;34m\u001b[0m\u001b[0;34m\u001b[0m\u001b[0m\n\u001b[0;32m----> 4\u001b[0;31m \u001b[0;32mfrom\u001b[0m \u001b[0msrc\u001b[0m\u001b[0;34m.\u001b[0m\u001b[0mevent_study\u001b[0m \u001b[0;32mimport\u001b[0m \u001b[0mabnormal_iv_series\u001b[0m\u001b[0;34m\u001b[0m\u001b[0;34m\u001b[0m\u001b[0m\n\u001b[0m\u001b[1;32m      5\u001b[0m \u001b[0;32mfrom\u001b[0m \u001b[0msrc\u001b[0m\u001b[0;34m.\u001b[0m\u001b[0mviz\u001b[0m \u001b[0;32mimport\u001b[0m \u001b[0mplot_avg_abn\u001b[0m\u001b[0;34m,\u001b[0m \u001b[0mheatmap_tstats\u001b[0m\u001b[0;34m\u001b[0m\u001b[0;34m\u001b[0m\u001b[0m\n\u001b[1;32m      6\u001b[0m \u001b[0;32mfrom\u001b[0m \u001b[0msrc\u001b[0m\u001b[0;34m.\u001b[0m\u001b[0mstats\u001b[0m \u001b[0;32mimport\u001b[0m \u001b[0mt_test_mean\u001b[0m\u001b[0;34m\u001b[0m\u001b[0;34m\u001b[0m\u001b[0m\n",
            "\u001b[0;31mImportError\u001b[0m: cannot import name 'abnormal_iv_series' from 'src.event_study' (/content/earnings_volatility_analysis/src/event_study.py)",
            "",
            "\u001b[0;31m---------------------------------------------------------------------------\u001b[0;32m\nNOTE: If your import is failing due to a missing package, you can\nmanually install dependencies using either !pip or !apt.\n\nTo view examples of installing some common dependencies, click the\n\"Open Examples\" button below.\n\u001b[0;31m---------------------------------------------------------------------------\u001b[0m\n"
          ],
          "errorDetails": {
            "actions": [
              {
                "action": "open_url",
                "actionText": "Open Examples",
                "url": "/notebooks/snippets/importing_libraries.ipynb"
              }
            ]
          }
        }
      ],
      "source": [
        "from tqdm import tqdm\n",
        "import pandas as pd\n",
        "from src.io import fetch_earnings_calendar\n",
        "from src.event_study import abnormal_iv_series\n",
        "from src.viz import plot_avg_abn, heatmap_tstats\n",
        "from src.stats import t_test_mean"
      ]
    },
    {
      "cell_type": "markdown",
      "metadata": {
        "id": "OgbBRHNZOgPV"
      },
      "source": [
        "Basic Workflow Implementation below:"
      ]
    },
    {
      "cell_type": "code",
      "execution_count": null,
      "metadata": {
        "id": "cVN_RLf9OgPW"
      },
      "outputs": [],
      "source": [
        "abn_iv_matrix = {}\n",
        "\n",
        "for tkr in UNIVERSE:\n",
        "    cal = fetch_earnings_calendar(tkr)\n",
        "    # loop over past N earnings events; append each to abn_iv_matrix\n",
        "    for dt, eps, est, surprise in cal.head(8).itertuples(index=False):\n",
        "        s = abnormal_iv_series(tkr, dt)\n",
        "        abn_iv_matrix[(tkr, dt)] = s\n",
        "\n",
        "abn_df = pd.concat(abn_iv_matrix, axis=1)\n",
        "plot_avg_abn(abn_df)\n",
        "\n",
        "tstats = t_test_mean(abn_df)\n",
        "heatmap_tstats(tstats)"
      ]
    },
    {
      "cell_type": "markdown",
      "source": [
        "# New Section"
      ],
      "metadata": {
        "id": "RGd_jkMkOnal"
      }
    }
  ],
  "metadata": {
    "kernelspec": {
      "display_name": "Python 3.10.11",
      "language": "python",
      "name": "python3"
    },
    "language_info": {
      "name": "python",
      "version": "3.10.11"
    },
    "orig_nbformat": 4,
    "vscode": {
      "interpreter": {
        "hash": "44ded42dbacc7a2d3c951a72f3761cb49f9066633a6933979917cc6cdedea3c5"
      }
    },
    "colab": {
      "provenance": [],
      "toc_visible": true
    }
  },
  "nbformat": 4,
  "nbformat_minor": 0
}