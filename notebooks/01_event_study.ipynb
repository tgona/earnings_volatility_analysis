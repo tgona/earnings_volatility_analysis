{
 "cells": [
  {
   "cell_type": "code",
   "execution_count": null,
   "metadata": {},
   "outputs": [],
   "source": [
    "from tqdm import tqdm\n",
    "import pandas as pd\n",
    "from src.io import fetch_earnings_calendar\n",
    "from src.event_study import abnormal_iv_series\n",
    "from src.viz import plot_avg_abn, heatmap_tstats\n",
    "from src.stats import t_test_mean"
   ]
  },
  {
   "cell_type": "markdown",
   "metadata": {},
   "source": [
    "Basic Workflow Implementation below:"
   ]
  },
  {
   "cell_type": "code",
   "execution_count": null,
   "metadata": {},
   "outputs": [],
   "source": [
    "abn_iv_matrix = {}\n",
    "\n",
    "for tkr in UNIVERSE:\n",
    "    cal = fetch_earnings_calendar(tkr)\n",
    "    # loop over past N earnings events; append each to abn_iv_matrix\n",
    "    for dt, eps, est, surprise in cal.head(8).itertuples(index=False):\n",
    "        s = abnormal_iv_series(tkr, dt)\n",
    "        abn_iv_matrix[(tkr, dt)] = s\n",
    "\n",
    "abn_df = pd.concat(abn_iv_matrix, axis=1)\n",
    "plot_avg_abn(abn_df)\n",
    "\n",
    "tstats = t_test_mean(abn_df)\n",
    "heatmap_tstats(tstats)"
   ]
  }
 ],
 "metadata": {
  "kernelspec": {
   "display_name": "Python 3.10.11",
   "language": "python",
   "name": "python3"
  },
  "language_info": {
   "name": "python",
   "version": "3.10.11"
  },
  "orig_nbformat": 4,
  "vscode": {
   "interpreter": {
    "hash": "44ded42dbacc7a2d3c951a72f3761cb49f9066633a6933979917cc6cdedea3c5"
   }
  }
 },
 "nbformat": 4,
 "nbformat_minor": 2
}
