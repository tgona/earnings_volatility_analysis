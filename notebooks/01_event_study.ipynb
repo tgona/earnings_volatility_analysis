{
  "cells": [
    {
      "cell_type": "code",
      "execution_count": 8,
      "metadata": {
        "colab": {
          "base_uri": "https://localhost:8080/"
        },
        "id": "nSRKClKr56_w",
        "outputId": "d79822ff-c115-4294-c3ab-1aca9f6e288c"
      },
      "outputs": [
        {
          "name": "stdout",
          "output_type": "stream",
          "text": [
            "Cloning into 'earnings_volatility_analysis'...\n",
            "remote: Enumerating objects: 36, done.\u001b[K\n",
            "remote: Counting objects: 100% (36/36), done.\u001b[K\n",
            "remote: Compressing objects: 100% (27/27), done.\u001b[K\n",
            "remote: Total 36 (delta 12), reused 31 (delta 7), pack-reused 0 (from 0)\u001b[K\n",
            "Receiving objects: 100% (36/36), 6.57 KiB | 6.57 MiB/s, done.\n",
            "Resolving deltas: 100% (12/12), done.\n",
            "/content/earnings_volatility_analysis/earnings_volatility_analysis/earnings_volatility_analysis\n"
          ]
        }
      ],
      "source": [
        "!git clone https://github.com/tgona/earnings_volatility_analysis.git\n",
        "%cd earnings_volatility_analysis"
      ]
    },
    {
      "cell_type": "code",
      "execution_count": null,
      "metadata": {
        "colab": {
          "base_uri": "https://localhost:8080/",
          "height": 411
        },
        "id": "qCsIdSejOgPU",
        "outputId": "b49a1fad-1b86-441a-fbea-6ef0a5ca4304"
      },
      "outputs": [
        {
          "ename": "",
          "evalue": "",
          "output_type": "error",
          "traceback": [
            "\u001b[1;31mFailed to start the Kernel. \n",
            "\u001b[1;31mTraceback (most recent call last):\n",
            "\u001b[1;31m  File \"/Users/tg/opt/anaconda3/lib/python3.9/site-packages/notebook/traittypes.py\", line 235, in _resolve_classes\n",
            "\u001b[1;31m    klass = self._resolve_string(klass)\n",
            "\u001b[1;31m  File \"/Users/tg/opt/anaconda3/lib/python3.9/site-packages/traitlets/traitlets.py\", line 2015, in _resolve_string\n",
            "\u001b[1;31m    return import_item(string)\n",
            "\u001b[1;31m  File \"/Users/tg/opt/anaconda3/lib/python3.9/site-packages/traitlets/utils/importstring.py\", line 33, in import_item\n",
            "\u001b[1;31m    module = __import__(package, fromlist=[obj])\n",
            "\u001b[1;31mModuleNotFoundError: No module named 'jupyter_server.contents'\n",
            "\u001b[1;31m\n",
            "\u001b[1;31mDuring handling of the above exception, another exception occurred:\n",
            "\u001b[1;31m\n",
            "\u001b[1;31mTraceback (most recent call last):\n",
            "\u001b[1;31m  File \"/Users/tg/.vscode/extensions/ms-toolsai.jupyter-2022.7.1102252217/pythonFiles/vscode_datascience_helpers/daemon/daemon_python.py\", line 54, in _decorator\n",
            "\u001b[1;31m    return func(self, *args, **kwargs)\n",
            "\u001b[1;31m  File \"/Users/tg/.vscode/extensions/ms-toolsai.jupyter-2022.7.1102252217/pythonFiles/vscode_datascience_helpers/jupyter_daemon.py\", line 111, in m_exec_module_observable\n",
            "\u001b[1;31m    self._start_notebook(args, cwd, env)\n",
            "\u001b[1;31m  File \"/Users/tg/.vscode/extensions/ms-toolsai.jupyter-2022.7.1102252217/pythonFiles/vscode_datascience_helpers/jupyter_daemon.py\", line 168, in _start_notebook\n",
            "\u001b[1;31m    app.launch_new_instance()\n",
            "\u001b[1;31m  File \"/Users/tg/opt/anaconda3/lib/python3.9/site-packages/jupyter_core/application.py\", line 283, in launch_instance\n",
            "\u001b[1;31m    super().launch_instance(argv=argv, **kwargs)\n",
            "\u001b[1;31m  File \"/Users/tg/opt/anaconda3/lib/python3.9/site-packages/traitlets/config/application.py\", line 1073, in launch_instance\n",
            "\u001b[1;31m    app = cls.instance(**kwargs)\n",
            "\u001b[1;31m  File \"/Users/tg/opt/anaconda3/lib/python3.9/site-packages/traitlets/config/configurable.py\", line 583, in instance\n",
            "\u001b[1;31m    inst = cls(*args, **kwargs)\n",
            "\u001b[1;31m  File \"/Users/tg/opt/anaconda3/lib/python3.9/site-packages/traitlets/traitlets.py\", line 1292, in __new__\n",
            "\u001b[1;31m    inst.setup_instance(*args, **kwargs)\n",
            "\u001b[1;31m  File \"/Users/tg/opt/anaconda3/lib/python3.9/site-packages/traitlets/traitlets.py\", line 1335, in setup_instance\n",
            "\u001b[1;31m    super(HasTraits, self).setup_instance(*args, **kwargs)\n",
            "\u001b[1;31m  File \"/Users/tg/opt/anaconda3/lib/python3.9/site-packages/traitlets/traitlets.py\", line 1311, in setup_instance\n",
            "\u001b[1;31m    init(self)\n",
            "\u001b[1;31m  File \"/Users/tg/opt/anaconda3/lib/python3.9/site-packages/notebook/traittypes.py\", line 226, in instance_init\n",
            "\u001b[1;31m    self._resolve_classes()\n",
            "\u001b[1;31m  File \"/Users/tg/opt/anaconda3/lib/python3.9/site-packages/notebook/traittypes.py\", line 238, in _resolve_classes\n",
            "\u001b[1;31m    warn(f\"{klass} is not importable. Is it installed?\", ImportWarning)\n",
            "\u001b[1;31mTypeError: warn() missing 1 required keyword-only argument: 'stacklevel'\n",
            "\u001b[1;31m\n",
            "\u001b[1;31mFailed to run jupyter as observable with args notebook --no-browser --notebook-dir=\"/Users/tg/Desktop/Projects/hft_signal_extraction/notebooks\" --config=/var/folders/52/8z3b_8651r11ttwy5zyxlhx00000gn/T/21812d6e-c828-4b09-8e98-1514ad9078f5/jupyter_notebook_config.py --NotebookApp.iopub_data_rate_limit=10000000000.0. \n",
            "View Jupyter <a href='command:jupyter.viewOutput'>log</a> for further details."
          ]
        }
      ],
      "source": [
        "from tqdm import tqdm\n",
        "import pandas as pd\n",
        "from src.io import fetch_earnings_calendar\n",
        "from src.event_study import abnormal_iv_series\n",
        "from src.viz import plot_avg_abn, heatmap_tstats\n",
        "from src.stats import t_test_mean"
      ]
    },
    {
      "cell_type": "markdown",
      "metadata": {
        "id": "OgbBRHNZOgPV"
      },
      "source": [
        "Basic Workflow Implementation below:"
      ]
    },
    {
      "cell_type": "code",
      "execution_count": null,
      "metadata": {
        "id": "cVN_RLf9OgPW"
      },
      "outputs": [],
      "source": [
        "abn_iv_matrix = {}\n",
        "\n",
        "for tkr in UNIVERSE:\n",
        "    cal = fetch_earnings_calendar(tkr)\n",
        "    # loop over past N earnings events; append each to abn_iv_matrix\n",
        "    for dt, eps, est, surprise in cal.head(8).itertuples(index=False):\n",
        "        s = abnormal_iv_series(tkr, dt)\n",
        "        abn_iv_matrix[(tkr, dt)] = s\n",
        "\n",
        "abn_df = pd.concat(abn_iv_matrix, axis=1)\n",
        "plot_avg_abn(abn_df)\n",
        "\n",
        "tstats = t_test_mean(abn_df)\n",
        "heatmap_tstats(tstats)"
      ]
    },
    {
      "cell_type": "markdown",
      "metadata": {
        "id": "RGd_jkMkOnal"
      },
      "source": [
        "# New Section"
      ]
    }
  ],
  "metadata": {
    "colab": {
      "provenance": [],
      "toc_visible": true
    },
    "kernelspec": {
      "display_name": "Python 3.10.11",
      "language": "python",
      "name": "python3"
    },
    "language_info": {
      "name": "python",
      "version": "3.10.11"
    },
    "orig_nbformat": 4,
    "vscode": {
      "interpreter": {
        "hash": "44ded42dbacc7a2d3c951a72f3761cb49f9066633a6933979917cc6cdedea3c5"
      }
    }
  },
  "nbformat": 4,
  "nbformat_minor": 0
}
